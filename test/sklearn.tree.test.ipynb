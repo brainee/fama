{
 "cells": [
  {
   "cell_type": "code",
   "execution_count": 1,
   "metadata": {},
   "outputs": [],
   "source": [
    "import tushare as ts\n",
    "import pandas as pd\n",
    "import numpy as np\n",
    "import matplotlib.pyplot as plt\n",
    "import datetime\n",
    "from dateutil.parser import parse\n",
    "from dateutil.relativedelta import relativedelta\n",
    "import statsmodels.api as sm\n",
    "import statsmodels.stats.api as sms\n",
    "import statsmodels.formula.api as smf\n"
   ]
  },
  {
   "cell_type": "code",
   "execution_count": 4,
   "metadata": {},
   "outputs": [],
   "source": [
    "%matplotlib inline"
   ]
  },
  {
   "cell_type": "code",
   "execution_count": 12,
   "metadata": {},
   "outputs": [
    {
     "data": {
      "text/plain": [
       "array([ 0.84147098,  0.90929743,  0.14112001, -0.7568025 , -0.95892427,\n",
       "       -0.2794155 ,  0.6569866 ,  0.98935825,  0.41211849, -0.54402111])"
      ]
     },
     "execution_count": 12,
     "metadata": {},
     "output_type": "execute_result"
    }
   ],
   "source": [
    "# x=[[x for x in range(1,11)]]\n",
    "# y=[5.56,5.7,5.91,6.4,6.8,7.05,8.9,8.7,9,9.05]\n",
    "# x\n",
    "\n",
    "# rng = np.random.RandomState(1)\n",
    "# rng.rand(3, 1).reshape(1,3)\n",
    "\n",
    "# y.remove(5.56)\n",
    "# s=pd.Series(y)\n",
    "# s.describe()\n",
    "\n",
    "# arr\n",
    "# array([[ 1.60721271, -0.25302454,  0.74203562],\n",
    "#        [ 0.92232852, -0.68086563, -1.30547522]])\n",
    "\n",
    "# np.sort(arr,0)\n",
    "# array([[-0.5329885 , -2.3504222 ,  0.15402651],\n",
    "#        [ 0.5568042 , -1.73166347,  0.28401444]])\n",
    "\n",
    "# np.sort(arr,1)\n",
    "# array([[ 0.10554022,  0.35486755,  1.73275883],\n",
    "#        [-0.50049842, -0.2515381 , -0.12104247]])\n",
    "\n",
    "# %matplotlib \n",
    "# ?np.random.RandomState\n",
    "# np.arange(1,4)\n",
    "# array([1, 2, 3])\n",
    "# range(1,4)\n",
    "# range(1, 4)\n",
    "\n",
    "X=np.arange(1,11).reshape(10,1)\n",
    "y=np.sin(X).ravel()\n",
    "y"
   ]
  },
  {
   "cell_type": "code",
   "execution_count": 14,
   "metadata": {},
   "outputs": [
    {
     "data": {
      "text/plain": [
       "0.5764928980747064"
      ]
     },
     "execution_count": 14,
     "metadata": {},
     "output_type": "execute_result"
    }
   ],
   "source": [
    "from sklearn.tree import DecisionTreeRegressor\n",
    "regr_1 = DecisionTreeRegressor(max_depth=2)\n",
    "regr_1.fit(X, y)\n",
    "regr_1.score(X,y)\n"
   ]
  },
  {
   "cell_type": "code",
   "execution_count": 21,
   "metadata": {
    "scrolled": true
   },
   "outputs": [
    {
     "data": {
      "text/plain": [
       "Text(0,0.5,'y')"
      ]
     },
     "execution_count": 21,
     "metadata": {},
     "output_type": "execute_result"
    },
    {
     "data": {
      "image/png": "[encoded data removed]",
      "text/plain": [
       "<Figure size 432x288 with 1 Axes>"
      ]
     },
     "metadata": {},
     "output_type": "display_data"
    }
   ],
   "source": [
    "plt.Figure()\n",
    "plt.scatter(X, y, s=20, edgecolor=\"black\",\n",
    "            c=\"red\", label=\"data\")\n",
    "\n",
    "plt.plot(X, y, color=\"cornflowerblue\",\n",
    "         label=\"max_depth=2\", linewidth=2)\n",
    "\n",
    "plt.xlabel(\"X\")\n",
    "plt.ylabel(\"y\")"
   ]
  },
  {
   "cell_type": "code",
   "execution_count": 39,
   "metadata": {},
   "outputs": [
    {
     "data": {
      "text/plain": [
       "array([1.52030448, 3.01246057])"
      ]
     },
     "execution_count": 39,
     "metadata": {},
     "output_type": "execute_result"
    }
   ],
   "source": [
    "import numpy as np\n",
    "from sklearn.tree import DecisionTreeRegressor\n",
    "import matplotlib.pyplot as plt\n",
    "\n",
    "# Create a random dataset\n",
    "rng = np.random.RandomState(1)\n",
    "X = np.sort(10 * rng.rand(160, 1), axis=0)\n",
    "y = np.sin(X).ravel()\n",
    "\n",
    "\n",
    "# y=np.array([1.0,2.0,3.0])\n",
    "# # 下面这种运算是先计算y[::2]，再和后面的np数组做矩阵计算，所以rng.rand(2)必须是2，而例子中必须是32=160/5\n",
    "# y[::2]+= 2* (0.5 - rng.rand(2))\n",
    "\n",
    "y[::5] += 2 * (0.5 - rng.rand(32)) # 每五个点增加一次噪音\n",
    "\n",
    "# # Fit regression model\n",
    "# regr_1 = DecisionTreeRegressor(max_depth=2)\n",
    "# regr_2 = DecisionTreeRegressor(max_depth=5)\n",
    "# regr_3 = DecisionTreeRegressor(max_depth=8)\n",
    "# regr_1.fit(X, y)\n",
    "# regr_2.fit(X, y)\n",
    "# regr_3.fit(X, y)\n",
    "\n",
    "# # Predict\n",
    "# X_test = np.arange(0.0, 10.0, 0.01)[:, np.newaxis]\n",
    "# y_1 = regr_1.predict(X_test)\n",
    "# y_2 = regr_2.predict(X_test)\n",
    "# y_3 = regr_3.predict(X_test)\n",
    "\n",
    "# # Plot the results\n",
    "# plt.figure()\n",
    "# plt.scatter(X, y, s=20, edgecolor=\"black\",\n",
    "#             c=\"darkorange\", label=\"data\")\n",
    "# plt.plot(X_test, y_1, color=\"cornflowerblue\",\n",
    "#          label=\"max_depth=2\", linewidth=2)\n",
    "# # plt.plot(X_test, y_2, color=\"yellowgreen\", label=\"max_depth=5\", linewidth=2)\n",
    "# # plt.plot(X_test, y_3, color=\"r\", label=\"max_depth=8\", linewidth=2)\n",
    "# # plt.xlabel(\"data\")\n",
    "# # plt.ylabel(\"target\")\n",
    "# # plt.title(\"Decision Tree Regression\")\n",
    "# # plt.legend()\n",
    "# # plt.show()\n",
    "\n",
    "\n",
    "\n"
   ]
  },
  {
   "cell_type": "code",
   "execution_count": 51,
   "metadata": {},
   "outputs": [
    {
     "data": {
      "text/plain": [
       "{6, 15}"
      ]
     },
     "execution_count": 51,
     "metadata": {},
     "output_type": "execute_result"
    }
   ],
   "source": [
    "s1=set([4,15,6])\n",
    "s2=set([4,1])\n",
    "s1.difference(s2)\n",
    "# s2.difference(s1)\n",
    "# s1|s2\n",
    "# s1.intersection(s2)\n",
    "# s2.intersection(s1)\n",
    "# {6, 15}"
   ]
  },
  {
   "cell_type": "code",
   "execution_count": 56,
   "metadata": {},
   "outputs": [],
   "source": [
    "# np.arange(0.0, 10.0, 0.1)[:,np.newaxis]\n",
    "# array([[0. ],\n",
    "#        [0.1],\n",
    "#        [0.2],\n",
    "#        [0.3],\n",
    "\n",
    "# X_test = np.arange(0.0, 10.0, 0.01)[:, np.newaxis]\n",
    "# y_1 = regr_1.predict(X_test)\n",
    "# y_2 = regr_2.predict(X_test)\n",
    "# y_3 = regr_3.predict(X_test)\n",
    "# # Number of features of the model must match the input. Model n_features is 8 and input n_features is 1 \n",
    "\n",
    "# a=\"a1\"\n",
    "# b={a:11}\n",
    "# {'a1': 11}\n",
    "# a=[[\"b\",2],[\"c\",3]]\n",
    "# d={}\n",
    "# [d[i[0]] for i in a]\n",
    "# d[\"e\"]=5\n",
    "# d.get(\"d\",4)//4\n",
    "# \"e\" in d //True\n",
    "# hasattr(d,\"e\")//False\n",
    "# d.e\n",
    "# AttributeError: 'dict' object has no attribute 'e'"
   ]
  },
  {
   "cell_type": "code",
   "execution_count": 28,
   "metadata": {},
   "outputs": [
    {
     "data": {
      "text/plain": [
       "6"
      ]
     },
     "execution_count": 28,
     "metadata": {},
     "output_type": "execute_result"
    }
   ],
   "source": [
    "a=[3,4,5,6]\n",
    "a[-1]"
   ]
  }
 ],
 "metadata": {
  "kernelspec": {
   "display_name": "Python 3",
   "language": "python",
   "name": "python3"
  },
  "language_info": {
   "codemirror_mode": {
    "name": "ipython",
    "version": 3
   },
   "file_extension": ".py",
   "mimetype": "text/x-python",
   "name": "python",
   "nbconvert_exporter": "python",
   "pygments_lexer": "ipython3",
   "version": "3.6.5"
  }
 },
 "nbformat": 4,
 "nbformat_minor": 2
}
