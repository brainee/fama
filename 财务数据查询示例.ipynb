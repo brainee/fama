{
 "cells": [
  {
   "cell_type": "code",
   "execution_count": 1,
   "metadata": {
    "collapsed": true
   },
   "outputs": [],
   "source": [
    "import pandas as pd\n",
    "import numpy as np"
   ]
  },
  {
   "cell_type": "markdown",
   "metadata": {},
   "source": [
    "   首先我们最直接的就是查看我们右上角帮助里的pythonAPI文档， 里面的阐述的比较具体。\n",
    "今天我们先用notebook实现这几点：\n",
    "## 1 直接通过财务指标选取出来符合要求的股票（从单一到复合）\n",
    "## 2 在已有的股票池中选取符合要求的股票\n",
    "#### 我们先了解一下get_fundamentals()里的几个参数\n",
    "   * query 是你要去查找的财务数据\n",
    "   * entry_date 开始查找的日期，默认是NONE，在Notebook里是必须要填写的。在策略里是你回测的起始日期\n",
    "   * interval 查询频率，比如说5天一查，5年一查\n",
    "   * report_quarter 返回的时候是否返回是哪一个季度的\n"
   ]
  },
  {
   "cell_type": "code",
   "execution_count": 26,
   "metadata": {
    "collapsed": false
   },
   "outputs": [],
   "source": [
    "df = get_fundamentals(\n",
    "    query(\n",
    "        #在这里选取你要你要的财务指标，详情参考财务数据文档，我们先在这里按照市值大小来选取，market_cap\n",
    "        fundamentals.eod_derivative_indicator.market_cap\n",
    "    ),entry_date='2015-06-01',interval='5y'\n",
    ")"
   ]
  },
  {
   "cell_type": "code",
   "execution_count": 27,
   "metadata": {
    "collapsed": false
   },
   "outputs": [
    {
     "data": {
      "text/plain": [
       "<class 'pandas.core.panel.Panel'>\n",
       "Dimensions: 1 (items) x 5 (major_axis) x 2748 (minor_axis)\n",
       "Items axis: market_cap to market_cap\n",
       "Major_axis axis: 2015-06-01 00:00:00 to 2011-05-30 00:00:00\n",
       "Minor_axis axis: 300281.XSHE to 002574.XSHE"
      ]
     },
     "execution_count": 27,
     "metadata": {},
     "output_type": "execute_result"
    }
   ],
   "source": [
    "df"
   ]
  },
  {
   "cell_type": "markdown",
   "metadata": {},
   "source": [
    "#### 注意这里是返回的是一个Panel,因为我们查询的是一个时间，股票代码，还有市值的一个三维的集，所以一定是会返回一个pannel那我们如果要返回一个dataFrame，那么我们就要减少一个维度，比如说，我们要的是300281.XSHE这一只股票"
   ]
  },
  {
   "cell_type": "code",
   "execution_count": 28,
   "metadata": {
    "collapsed": false
   },
   "outputs": [
    {
     "data": {
      "text/html": [
       "<div>\n",
       "<table border=\"1\" class=\"dataframe\">\n",
       "  <thead>\n",
       "    <tr style=\"text-align: right;\">\n",
       "      <th></th>\n",
       "      <th>market_cap</th>\n",
       "    </tr>\n",
       "  </thead>\n",
       "  <tbody>\n",
       "    <tr>\n",
       "      <th>2015-06-01</th>\n",
       "      <td>4.80118e+09</td>\n",
       "    </tr>\n",
       "    <tr>\n",
       "      <th>2014-05-30</th>\n",
       "      <td>1.5136e+09</td>\n",
       "    </tr>\n",
       "    <tr>\n",
       "      <th>2013-05-30</th>\n",
       "      <td>1.314e+09</td>\n",
       "    </tr>\n",
       "    <tr>\n",
       "      <th>2012-05-30</th>\n",
       "      <td>1.0758e+09</td>\n",
       "    </tr>\n",
       "    <tr>\n",
       "      <th>2011-05-30</th>\n",
       "      <td>NaN</td>\n",
       "    </tr>\n",
       "  </tbody>\n",
       "</table>\n",
       "</div>"
      ],
      "text/plain": [
       "             market_cap\n",
       "2015-06-01  4.80118e+09\n",
       "2014-05-30   1.5136e+09\n",
       "2013-05-30    1.314e+09\n",
       "2012-05-30   1.0758e+09\n",
       "2011-05-30          NaN"
      ]
     },
     "execution_count": 28,
     "metadata": {},
     "output_type": "execute_result"
    }
   ],
   "source": [
    "df.minor_xs('300281.XSHE')"
   ]
  },
  {
   "cell_type": "code",
   "execution_count": 36,
   "metadata": {
    "collapsed": false
   },
   "outputs": [
    {
     "data": {
      "text/plain": [
       "array(['300281.XSHE', '600089.XSHG', '600211.XSHG', ..., '300018.XSHE',\n",
       "       '002692.XSHE', '002574.XSHE'], dtype=object)"
      ]
     },
     "execution_count": 36,
     "metadata": {},
     "output_type": "execute_result"
    }
   ],
   "source": [
    "stocks=np.array(df.minor_axis)\n",
    "stocks"
   ]
  },
  {
   "cell_type": "markdown",
   "metadata": {},
   "source": [
    "#### 同理，我们要获取某一个时间的话就是用df.major_xs('2014-05-30')\n",
    "这里，我们终于获得了API里面写的dataFrame了....即使很心塞，但是不得不承认完善的情况下是一定是三维的。\n",
    "那么接下来我们通过财务数据最终是要选取股票出来，那么其实我们就是要获取到查询出来的这个panel里的minor_axis"
   ]
  },
  {
   "cell_type": "markdown",
   "metadata": {},
   "source": [
    "这里我们使用numpy里的array来保存一下这个股票列表。（因为array保存的是相同的数据类型，list可以不是）\n",
    "顺带一提我们经常在社区里看到的策略都有context.stocks = 一个DataFrame.columns.values，因为这是二维dataFrame获取的是列的值就是股票列表了\n",
    "\n",
    "#### 下面我们直接来一个API里复合查询的demo：\n",
    "   * filter方法是可以让你去筛选指标的，比如说demo里就是筛选pe大于55小于60之间\n",
    "   * .order_by方法是一个排序的方法，demo里是用revenue来进行一个降序排列 desc()是降序，asc()是升序。\n",
    "   * .limit方式是限制拿到数据的数量，因为最终你可能只需要排名靠前的10只"
   ]
  },
  {
   "cell_type": "code",
   "execution_count": 37,
   "metadata": {
    "collapsed": true
   },
   "outputs": [],
   "source": [
    "fundamental_df = get_fundamentals(\n",
    "        query(\n",
    "            fundamentals.income_statement.revenue, fundamentals.eod_derivative_indicator.pe_ratio\n",
    "        ).filter(\n",
    "            fundamentals.eod_derivative_indicator.pe_ratio > 55\n",
    "        ).filter(\n",
    "            fundamentals.eod_derivative_indicator.pe_ratio < 60\n",
    "        ).order_by(\n",
    "            fundamentals.income_statement.revenue.desc()\n",
    "        ).limit(\n",
    "            10\n",
    "        ),entry_date='2016-04-01',interval='5y'  #策略里填写如果只需要股票池，那么entry_date和interval是不需要填写的，但是notebook中是要的\n",
    "    )"
   ]
  },
  {
   "cell_type": "code",
   "execution_count": 38,
   "metadata": {
    "collapsed": false
   },
   "outputs": [
    {
     "data": {
      "text/plain": [
       "<class 'pandas.core.panel.Panel'>\n",
       "Dimensions: 2 (items) x 5 (major_axis) x 9 (minor_axis)\n",
       "Items axis: revenue to pe_ratio\n",
       "Major_axis axis: 2016-04-01 00:00:00 to 2012-03-30 00:00:00\n",
       "Minor_axis axis: 600875.XSHG to 600297.XSHG"
      ]
     },
     "execution_count": 38,
     "metadata": {},
     "output_type": "execute_result"
    }
   ],
   "source": [
    "fundamental_df"
   ]
  },
  {
   "cell_type": "markdown",
   "metadata": {},
   "source": [
    "#### 这里依然是一个panel，那么我们先把股票池筛选出来,跟上面一样我们用一个array来存\n"
   ]
  },
  {
   "cell_type": "code",
   "execution_count": 42,
   "metadata": {
    "collapsed": false
   },
   "outputs": [
    {
     "data": {
      "text/plain": [
       "array(['600875.XSHG', '601808.XSHG', '601727.XSHG', '600998.XSHG',\n",
       "       '601866.XSHG', '600704.XSHG', '600011.XSHG', '000626.XSHE',\n",
       "       '600297.XSHG'], dtype=object)"
      ]
     },
     "execution_count": 42,
     "metadata": {},
     "output_type": "execute_result"
    }
   ],
   "source": [
    "stocks = np.array(fundamental_df.minor_axis)\n",
    "stocks"
   ]
  },
  {
   "cell_type": "code",
   "execution_count": null,
   "metadata": {
    "collapsed": true
   },
   "outputs": [],
   "source": []
  },
  {
   "cell_type": "markdown",
   "metadata": {},
   "source": [
    "到这里，我们已经把第一步 从选财务数据中选出符合我们要求的股票完成了。\n",
    "#### 接下来进行第二步，从我们已有的股票池里选取符合财务数据要求的。\n",
    "   * 1.我们可以自己维护一个股票，比如在一开始定义context.stocks=['XXXXXX.XSHG',‘XXXX.XSHE’]你想要去查询的股票同样，这里我们直接选取某一个概念里的所有股票去找到里面符合我们财务数据要求的股票\n",
    "      "
   ]
  },
  {
   "cell_type": "code",
   "execution_count": 46,
   "metadata": {
    "collapsed": false
   },
   "outputs": [
    {
     "data": {
      "text/plain": [
       "['300427.XSHE',\n",
       " '300405.XSHE',\n",
       " '300404.XSHE',\n",
       " '300388.XSHE',\n",
       " '603315.XSHG',\n",
       " '002747.XSHE',\n",
       " '300398.XSHE',\n",
       " '603618.XSHG',\n",
       " '603015.XSHG',\n",
       " '002737.XSHE',\n",
       " '603012.XSHG',\n",
       " '603519.XSHG',\n",
       " '603609.XSHG',\n",
       " '300413.XSHE',\n",
       " '300429.XSHE',\n",
       " '300439.XSHE',\n",
       " '603009.XSHG',\n",
       " '603997.XSHG',\n",
       " '603158.XSHG',\n",
       " '603222.XSHG',\n",
       " '300386.XSHE',\n",
       " '603021.XSHG',\n",
       " '002728.XSHE',\n",
       " '603828.XSHG',\n",
       " '002750.XSHE',\n",
       " '300385.XSHE',\n",
       " '300428.XSHE',\n",
       " '603686.XSHG',\n",
       " '601016.XSHG',\n",
       " '300400.XSHE',\n",
       " '603199.XSHG',\n",
       " '000166.XSHE',\n",
       " '300397.XSHE',\n",
       " '603611.XSHG',\n",
       " '300423.XSHE',\n",
       " '603017.XSHG',\n",
       " '002726.XSHE',\n",
       " '603456.XSHG',\n",
       " '300399.XSHE',\n",
       " '603030.XSHG',\n",
       " '603306.XSHG',\n",
       " '300395.XSHE',\n",
       " '300437.XSHE',\n",
       " '002738.XSHE',\n",
       " '603939.XSHG',\n",
       " '300384.XSHE',\n",
       " '300433.XSHE',\n",
       " '603166.XSHG',\n",
       " '601689.XSHG',\n",
       " '002730.XSHE',\n",
       " '601198.XSHG',\n",
       " '603998.XSHG',\n",
       " '002742.XSHE',\n",
       " '300426.XSHE',\n",
       " '300424.XSHE',\n",
       " '603636.XSHG',\n",
       " '603567.XSHG',\n",
       " '603020.XSHG',\n",
       " '002749.XSHE',\n",
       " '603338.XSHG',\n",
       " '300415.XSHE',\n",
       " '601226.XSHG',\n",
       " '603799.XSHG',\n",
       " '603698.XSHG',\n",
       " '300411.XSHE',\n",
       " '300446.XSHE',\n",
       " '002732.XSHE',\n",
       " '603111.XSHG',\n",
       " '300436.XSHE',\n",
       " '300434.XSHE',\n",
       " '603025.XSHG',\n",
       " '002727.XSHE',\n",
       " '603126.XSHG',\n",
       " '002724.XSHE',\n",
       " '603018.XSHG',\n",
       " '603601.XSHG',\n",
       " '603558.XSHG',\n",
       " '300425.XSHE',\n",
       " '603899.XSHG',\n",
       " '603600.XSHG',\n",
       " '601969.XSHG',\n",
       " '300447.XSHE',\n",
       " '603678.XSHG',\n",
       " '603169.XSHG',\n",
       " '002751.XSHE',\n",
       " '300420.XSHE',\n",
       " '603808.XSHG',\n",
       " '300401.XSHE',\n",
       " '603729.XSHG',\n",
       " '002752.XSHE',\n",
       " '603789.XSHG',\n",
       " '300393.XSHE',\n",
       " '002735.XSHE',\n",
       " '601069.XSHG',\n",
       " '300432.XSHE',\n",
       " '002733.XSHE',\n",
       " '300390.XSHE',\n",
       " '600959.XSHG',\n",
       " '300422.XSHE',\n",
       " '603369.XSHG',\n",
       " '603100.XSHG',\n",
       " '603118.XSHG',\n",
       " '300408.XSHE',\n",
       " '300407.XSHE',\n",
       " '300403.XSHE',\n",
       " '300440.XSHE',\n",
       " '601021.XSHG',\n",
       " '300416.XSHE',\n",
       " '002734.XSHE',\n",
       " '300441.XSHE',\n",
       " '300402.XSHE',\n",
       " '300445.XSHE',\n",
       " '300389.XSHE',\n",
       " '300394.XSHE',\n",
       " '300449.XSHE',\n",
       " '603328.XSHG',\n",
       " '300443.XSHE',\n",
       " '603988.XSHG',\n",
       " '603088.XSHG',\n",
       " '002745.XSHE',\n",
       " '300438.XSHE',\n",
       " '300374.XSHE',\n",
       " '603806.XSHG',\n",
       " '600958.XSHG',\n",
       " '601579.XSHG',\n",
       " '300409.XSHE',\n",
       " '300448.XSHE',\n",
       " '603318.XSHG',\n",
       " '300406.XSHE',\n",
       " '002743.XSHE',\n",
       " '300412.XSHE',\n",
       " '603606.XSHG',\n",
       " '002741.XSHE',\n",
       " '300442.XSHE',\n",
       " '603688.XSHG',\n",
       " '603010.XSHG',\n",
       " '300387.XSHE',\n",
       " '002739.XSHE',\n",
       " '603268.XSHG',\n",
       " '603011.XSHG',\n",
       " '603588.XSHG',\n",
       " '300391.XSHE',\n",
       " '603969.XSHG',\n",
       " '300392.XSHE',\n",
       " '603019.XSHG',\n",
       " '603703.XSHG',\n",
       " '300419.XSHE',\n",
       " '300410.XSHE',\n",
       " '600917.XSHG',\n",
       " '603889.XSHG',\n",
       " '603869.XSHG',\n",
       " '002746.XSHE',\n",
       " '603883.XSHG',\n",
       " '300435.XSHE',\n",
       " '603006.XSHG',\n",
       " '002736.XSHE',\n",
       " '300417.XSHE',\n",
       " '300431.XSHE',\n",
       " '603898.XSHG',\n",
       " '300396.XSHE',\n",
       " '603788.XSHG',\n",
       " '002729.XSHE',\n",
       " '300418.XSHE',\n",
       " '300421.XSHE',\n",
       " '603099.XSHG',\n",
       " '300444.XSHE',\n",
       " '603518.XSHG',\n",
       " '300430.XSHE',\n",
       " '603309.XSHG',\n",
       " '002740.XSHE',\n",
       " '603168.XSHG',\n",
       " '002731.XSHE',\n",
       " '300364.XSHE',\n",
       " '603368.XSHG',\n",
       " '603818.XSHG',\n",
       " '601015.XSHG',\n",
       " '603188.XSHG',\n",
       " '002748.XSHE']"
      ]
     },
     "execution_count": 46,
     "metadata": {},
     "output_type": "execute_result"
    }
   ],
   "source": [
    "stocks=concept('次新股')\n",
    "stocks"
   ]
  },
  {
   "cell_type": "markdown",
   "metadata": {},
   "source": [
    " * 2.拿到之后我们就去查询：先解释一下不同的地方\n",
    "    #### 我们一眼就看到关键的不同在于多了一个.filter()方法，我们是从具体指标的上一级中的方法.stockcode.in(参数)中查询我们传进去的那个股票列表\n",
    "    #### 同样，这里查询的有两个指标，对应的上级也不一样，那么无论我们用fundamentals.eod_derivative_indicator.stockcode.in还是fundamentals.income_statement.stockcode.in返回的结果都一样"
   ]
  },
  {
   "cell_type": "code",
   "execution_count": 53,
   "metadata": {
    "collapsed": false
   },
   "outputs": [
    {
     "data": {
      "text/plain": [
       "array(['002724.XSHE', '002726.XSHE', '002727.XSHE', '002728.XSHE',\n",
       "       '002729.XSHE', '002730.XSHE', '002731.XSHE', '002732.XSHE',\n",
       "       '002733.XSHE', '002734.XSHE', '002735.XSHE', '002736.XSHE',\n",
       "       '002737.XSHE', '002738.XSHE', '002739.XSHE', '002740.XSHE',\n",
       "       '002741.XSHE', '002742.XSHE', '002743.XSHE', '002745.XSHE',\n",
       "       '002746.XSHE', '002747.XSHE', '002748.XSHE', '002749.XSHE',\n",
       "       '002750.XSHE', '300364.XSHE', '300374.XSHE', '300384.XSHE',\n",
       "       '300385.XSHE', '300386.XSHE', '300387.XSHE', '300388.XSHE',\n",
       "       '300389.XSHE', '300390.XSHE', '300391.XSHE', '300392.XSHE',\n",
       "       '300393.XSHE', '300394.XSHE', '300395.XSHE', '300396.XSHE',\n",
       "       '300398.XSHE', '300400.XSHE', '300401.XSHE', '300402.XSHE',\n",
       "       '300403.XSHE', '300405.XSHE', '300406.XSHE', '300407.XSHE',\n",
       "       '300408.XSHE', '300409.XSHE', '300410.XSHE', '300411.XSHE',\n",
       "       '300412.XSHE', '300413.XSHE', '300415.XSHE', '300416.XSHE',\n",
       "       '300417.XSHE', '300418.XSHE', '300419.XSHE', '300420.XSHE',\n",
       "       '300421.XSHE', '300422.XSHE', '300423.XSHE', '300425.XSHE',\n",
       "       '300426.XSHE', '300427.XSHE', '300428.XSHE', '300429.XSHE',\n",
       "       '300430.XSHE', '300432.XSHE', '300433.XSHE', '300435.XSHE',\n",
       "       '600917.XSHG', '600958.XSHG', '601015.XSHG', '601016.XSHG',\n",
       "       '601021.XSHG', '601069.XSHG', '601198.XSHG', '601226.XSHG',\n",
       "       '601579.XSHG', '601689.XSHG', '601969.XSHG', '603006.XSHG',\n",
       "       '603009.XSHG', '603010.XSHG', '603011.XSHG', '603012.XSHG',\n",
       "       '603015.XSHG', '603017.XSHG', '603018.XSHG', '603020.XSHG',\n",
       "       '603030.XSHG', '603088.XSHG', '603099.XSHG', '603100.XSHG',\n",
       "       '603111.XSHG', '603118.XSHG', '603126.XSHG', '603158.XSHG',\n",
       "       '603166.XSHG', '603168.XSHG', '603169.XSHG', '603188.XSHG',\n",
       "       '603199.XSHG', '603222.XSHG', '603268.XSHG', '603306.XSHG',\n",
       "       '603309.XSHG', '603328.XSHG', '603338.XSHG', '603368.XSHG',\n",
       "       '603369.XSHG', '603456.XSHG', '603518.XSHG', '603519.XSHG',\n",
       "       '603558.XSHG', '603588.XSHG', '603600.XSHG', '603601.XSHG',\n",
       "       '603606.XSHG', '603609.XSHG', '603611.XSHG', '603636.XSHG',\n",
       "       '603678.XSHG', '603686.XSHG', '603688.XSHG', '603698.XSHG',\n",
       "       '603729.XSHG', '603788.XSHG', '603799.XSHG', '603806.XSHG',\n",
       "       '603828.XSHG', '603869.XSHG', '603889.XSHG', '603898.XSHG',\n",
       "       '603899.XSHG', '603939.XSHG', '603969.XSHG', '603988.XSHG',\n",
       "       '603997.XSHG', '603998.XSHG'], dtype=object)"
      ]
     },
     "execution_count": 53,
     "metadata": {},
     "output_type": "execute_result"
    }
   ],
   "source": [
    "new_fundamental_df = get_fundamentals(\n",
    "        query(\n",
    "            fundamentals.income_statement.revenue,      fundamentals.eod_derivative_indicator.pe_ratio\n",
    "        ).filter(\n",
    "            fundamentals.eod_derivative_indicator.pe_ratio > 5\n",
    "        ).filter(\n",
    "            fundamentals.eod_derivative_indicator.pe_ratio < 300\n",
    "        ).filter(\n",
    "            fundamentals.income_statement.stockcode.in_(stocks)\n",
    "            ),entry_date='2015-04-01'\n",
    "    )\n",
    "stocks1=np.array(new_fundamental_df.minor_axis)\n",
    "stocks1"
   ]
  },
  {
   "cell_type": "markdown",
   "metadata": {},
   "source": [
    "### 呃，这里为了比较是不是真的成功了的话，我们可以再从整个市场里选取一下同样财务指标的股票，看看数量就知道是不是真的从我们自己定义的股票里选取了"
   ]
  },
  {
   "cell_type": "code",
   "execution_count": 66,
   "metadata": {
    "collapsed": false
   },
   "outputs": [
    {
     "data": {
      "text/plain": [
       "2091"
      ]
     },
     "execution_count": 66,
     "metadata": {},
     "output_type": "execute_result"
    }
   ],
   "source": [
    "old_fundamental_df = get_fundamentals(\n",
    "        query(\n",
    "            fundamentals.income_statement.revenue,      fundamentals.eod_derivative_indicator.pe_ratio\n",
    "        ).filter(\n",
    "            fundamentals.eod_derivative_indicator.pe_ratio > 5\n",
    "        ).filter(\n",
    "            fundamentals.eod_derivative_indicator.pe_ratio < 300\n",
    "        ),entry_date='2015-04-01'\n",
    "    )\n",
    "stocks2=np.array(old_fundamental_df.minor_axis)\n",
    "len(stocks2)"
   ]
  },
  {
   "cell_type": "markdown",
   "metadata": {},
   "source": [
    "# 搞完正经事情之后，我们来一些骚操作，比如说在.filter()加一些计算，或者是拿不同的指标进行比较！"
   ]
  },
  {
   "cell_type": "code",
   "execution_count": 67,
   "metadata": {
    "collapsed": false
   },
   "outputs": [
    {
     "data": {
      "text/plain": [
       "2093"
      ]
     },
     "execution_count": 67,
     "metadata": {},
     "output_type": "execute_result"
    }
   ],
   "source": [
    "old_fundamental_df = get_fundamentals(\n",
    "        query(\n",
    "            fundamentals.income_statement.revenue,      fundamentals.eod_derivative_indicator.pe_ratio\n",
    "        ).filter(\n",
    "            fundamentals.eod_derivative_indicator.pe_ratio +10  > 5\n",
    "        ).filter(\n",
    "            fundamentals.eod_derivative_indicator.pe_ratio < 300\n",
    "        ),entry_date='2015-04-01'\n",
    "    )\n",
    "stocks2=np.array(old_fundamental_df.minor_axis)\n",
    "len(stocks2)"
   ]
  },
  {
   "cell_type": "markdown",
   "metadata": {},
   "source": [
    "#### 还真可以........其实用处不大，但是就是想试试。"
   ]
  },
  {
   "cell_type": "code",
   "execution_count": 73,
   "metadata": {
    "collapsed": false
   },
   "outputs": [
    {
     "data": {
      "text/plain": [
       "2272"
      ]
     },
     "execution_count": 73,
     "metadata": {},
     "output_type": "execute_result"
    }
   ],
   "source": [
    "old_fundamental_df = get_fundamentals(\n",
    "        query(\n",
    "            fundamentals.income_statement.revenue,      fundamentals.eod_derivative_indicator.pe_ratio\n",
    "        ).filter(\n",
    "            fundamentals.eod_derivative_indicator.pe_ratio < fundamentals.income_statement.revenue\n",
    "        ),entry_date='2015-04-01'\n",
    "    )\n",
    "stocks2=np.array(old_fundamental_df.minor_axis)\n",
    "len(stocks2)"
   ]
  },
  {
   "cell_type": "code",
   "execution_count": 85,
   "metadata": {
    "collapsed": false
   },
   "outputs": [
    {
     "ename": "TypeError",
     "evalue": "unsupported operand type(s) for ** or pow(): 'InstrumentedAttribute' and 'float'",
     "output_type": "error",
     "traceback": [
      "\u001b[0;31m---------------------------------------------------------------------------\u001b[0m",
      "\u001b[0;31mTypeError\u001b[0m                                 Traceback (most recent call last)",
      "\u001b[0;32m<ipython-input-85-41fae3c31a14>\u001b[0m in \u001b[0;36m<module>\u001b[0;34m()\u001b[0m\n\u001b[1;32m      4\u001b[0m              \u001b[0mfundamentals\u001b[0m\u001b[0;34m.\u001b[0m\u001b[0meod_derivative_indicator\u001b[0m\u001b[0;34m.\u001b[0m\u001b[0mpb_ratio\u001b[0m\u001b[0;34m,\u001b[0m\u001b[0;34m\u001b[0m\u001b[0m\n\u001b[1;32m      5\u001b[0m         \u001b[0;34m)\u001b[0m\u001b[0;34m.\u001b[0m\u001b[0mfilter\u001b[0m\u001b[0;34m(\u001b[0m\u001b[0;34m\u001b[0m\u001b[0m\n\u001b[0;32m----> 6\u001b[0;31m          \u001b[0mfundamentals\u001b[0m\u001b[0;34m.\u001b[0m\u001b[0meod_derivative_indicator\u001b[0m\u001b[0;34m.\u001b[0m\u001b[0mpb_ratio\u001b[0m \u001b[0;34m**\u001b[0m \u001b[0;34m(\u001b[0m\u001b[0;36m1\u001b[0m\u001b[0;34m/\u001b[0m\u001b[0;36m4\u001b[0m\u001b[0;34m)\u001b[0m \u001b[0;34m>\u001b[0m\u001b[0;36m10000\u001b[0m\u001b[0;34m\u001b[0m\u001b[0m\n\u001b[0m\u001b[1;32m      7\u001b[0m         ),entry_date='2015-04-01'\n\u001b[1;32m      8\u001b[0m     )\n",
      "\u001b[0;31mTypeError\u001b[0m: unsupported operand type(s) for ** or pow(): 'InstrumentedAttribute' and 'float'"
     ]
    }
   ],
   "source": [
    "import math\n",
    "old_fundamental_df = get_fundamentals(\n",
    "        query(\n",
    "             fundamentals.eod_derivative_indicator.pb_ratio,     \n",
    "        ).filter(\n",
    "         fundamentals.eod_derivative_indicator.pb_ratio ** (1/4) >10000\n",
    "        ),entry_date='2015-04-01'\n",
    "    )\n",
    "stocks2=np.array(old_fundamental_df.minor_axis)\n",
    "len(stocks2)"
   ]
  },
  {
   "cell_type": "markdown",
   "metadata": {},
   "source": [
    "### 实验证明，开个根号是不行的[微笑]，终于试出来了...."
   ]
  },
  {
   "cell_type": "code",
   "execution_count": null,
   "metadata": {
    "collapsed": true
   },
   "outputs": [],
   "source": []
  }
 ],
 "metadata": {
  "kernelspec": {
   "display_name": "Python 3",
   "language": "python",
   "name": "python3"
  },
  "language_info": {
   "codemirror_mode": {
    "name": "ipython",
    "version": 3
   },
   "file_extension": ".py",
   "mimetype": "text/x-python",
   "name": "python",
   "nbconvert_exporter": "python",
   "pygments_lexer": "ipython3",
   "version": "3.5.5"
  }
 },
 "nbformat": 4,
 "nbformat_minor": 1
}
