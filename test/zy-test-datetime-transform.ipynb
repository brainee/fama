{
 "cells": [
  {
   "cell_type": "code",
   "execution_count": 1,
   "metadata": {},
   "outputs": [
    {
     "name": "stdout",
     "output_type": "stream",
     "text": [
      "Automatic pdb calling has been turned ON\n"
     ]
    }
   ],
   "source": [
    "%pdb"
   ]
  },
  {
   "cell_type": "code",
   "execution_count": null,
   "metadata": {
    "scrolled": true
   },
   "outputs": [
    {
     "name": "stdout",
     "output_type": "stream",
     "text": [
      "type(stk),type(date) <class 'str'> 002334.XSHE <class 'str'> 2010-11-01\n"
     ]
    }
   ],
   "source": [
    "# %load fama.py\n",
    "import tushare as ts\n",
    "import pandas as pd\n",
    "import numpy as np\n",
    "import matplotlib.pyplot as plt\n",
    "\n",
    "df_book_value=pd.read_csv(\"./book_value_per_share.csv\",index_col=0)\n",
    "df_market_cap=pd.read_csv(\"./market_cap.csv\")\n",
    "price_data=pd.read_csv(\"./price_data.csv\")\n",
    "# print(df_book_value)\n",
    "\n",
    "index_date=df_book_value.index\n",
    "stocks=df_book_value.columns\n",
    "format='%Y-%m-%d %H:%M:%S'\n",
    "btm = pd.DataFrame(index=index_date,columns=stocks)\n",
    "\n",
    "i=0\n",
    "for stk in stocks:\n",
    "    for date in index_date:\n",
    "        i=i+1\n",
    "        if i==1:\n",
    "            print(\"type(stk),type(date)\",type(stk),stk,type(date),date)\n",
    "        else:\n",
    "            pass\n",
    "#         dt=date.strftime(format)    \n",
    "#         print(\"dt\",type(dt),dt)\n",
    "        \n",
    "        if hasattr(price_data[stk],date):\n",
    "            if price_data[stk][date]!=0:\n",
    "                btm[stk][date] = df_book_value[stk][date]/price_data[stk][date]\n",
    "            else:\n",
    "                btm[stk][date] = 0\n",
    "        else:\n",
    "#             print('hasattr error',stk,date,type(date))\n",
    "            btm[stk][date]=0\n",
    "            \n",
    "# btm"
   ]
  },
  {
   "cell_type": "code",
   "execution_count": 7,
   "metadata": {},
   "outputs": [],
   "source": [
    "from datetime import datetime"
   ]
  },
  {
   "cell_type": "code",
   "execution_count": 10,
   "metadata": {},
   "outputs": [
    {
     "data": {
      "text/plain": [
       "datetime.datetime(2018, 5, 13, 13, 36, 39, 360507)"
      ]
     },
     "execution_count": 10,
     "metadata": {},
     "output_type": "execute_result"
    }
   ],
   "source": [
    "datetime.now()"
   ]
  },
  {
   "cell_type": "code",
   "execution_count": 29,
   "metadata": {},
   "outputs": [
    {
     "data": {
      "text/plain": [
       "[datetime.datetime(2017, 6, 26, 0, 0), datetime.datetime(2017, 6, 27, 0, 0)]"
      ]
     },
     "execution_count": 29,
     "metadata": {},
     "output_type": "execute_result"
    }
   ],
   "source": [
    "date = ['2017-6-26','2017-6-27']\n",
    "arr=[datetime.strptime(x,\"%Y-%m-%d\") for x in date]\n",
    "arr"
   ]
  },
  {
   "cell_type": "code",
   "execution_count": 23,
   "metadata": {},
   "outputs": [
    {
     "data": {
      "text/plain": [
       "'2017-06-27'"
      ]
     },
     "execution_count": 23,
     "metadata": {},
     "output_type": "execute_result"
    }
   ],
   "source": [
    "stamp = datetime(2017,6,27)\n",
    "stamp\n",
    "str(stamp)[:10]\n"
   ]
  },
  {
   "cell_type": "code",
   "execution_count": 31,
   "metadata": {},
   "outputs": [],
   "source": [
    "from dateutil.parser import parse"
   ]
  },
  {
   "cell_type": "code",
   "execution_count": 113,
   "metadata": {},
   "outputs": [
    {
     "name": "stdout",
     "output_type": "stream",
     "text": [
      "2018-05-01   -1.095721\n",
      "2018-05-02    0.022086\n",
      "2018-05-03   -0.455288\n",
      "2018-05-04    0.156080\n",
      "2018-05-05    0.005514\n",
      "2018-05-06   -0.697764\n",
      "2018-05-07   -1.673857\n",
      "2018-05-08   -0.468843\n",
      "2018-05-09    0.736774\n",
      "2018-05-10    0.238016\n",
      "Freq: D, dtype: float64\n"
     ]
    },
    {
     "data": {
      "text/plain": [
       "array([[0, 1, 2]])"
      ]
     },
     "execution_count": 113,
     "metadata": {},
     "output_type": "execute_result"
    }
   ],
   "source": [
    "date_index=pd.date_range(\"2018-5-1\",\"2018-5-10\")\n",
    "type(date_index) \n",
    "date_index\n",
    "s=pd.Series(np.random.randn(10),index=date_index)\n",
    "print(s)\n",
    "'''\n",
    "# s[\"2018-05-01\"]\n",
    "# s[\"20180501\"]\n",
    "# s[parse(\"2018-05-01\")]\n",
    "# s[datetime.strptime(\"2018-05-01\",\"%Y-%m-%d\")]\n",
    "# s['2017-06-20':'2017-06-23']\n",
    "# getattr(s,\"2018-05-15\",0)\n",
    "#以上这些都能从index里面正确取值，以下这些则不行 except IndexError\n",
    "# s['2017-06-20']\n",
    "# s[\"2018-05-15\"]\n",
    "# s.getattr(\"2018-05-15\",0)#AttributeError\n",
    "'''\n",
    "# dt <class 'pandas._libs.tslib.Timestamp'> 2010-11-01 00:00:00\n",
    "# dates = pd.DatetimeIndex(['2017/06/01','2017/06/02','2017/06/02','2017/06/02','2017/06/03'])\n",
    "# dates\n",
    "# np.ndarray(5)#生成一维数组5个元素\n",
    "# np.ndarray([2,3])#生成n纬数组，\n",
    "# type(np.ndarray([2,3]))\n",
    "nda=np.arange(3)\n",
    "type(nda)\n",
    "nda.reshape(1,3)"
   ]
  }
 ],
 "metadata": {
  "kernelspec": {
   "display_name": "Python 3",
   "language": "python",
   "name": "python3"
  },
  "language_info": {
   "codemirror_mode": {
    "name": "ipython",
    "version": 3
   },
   "file_extension": ".py",
   "mimetype": "text/x-python",
   "name": "python",
   "nbconvert_exporter": "python",
   "pygments_lexer": "ipython3",
   "version": "3.6.5"
  }
 },
 "nbformat": 4,
 "nbformat_minor": 2
}
